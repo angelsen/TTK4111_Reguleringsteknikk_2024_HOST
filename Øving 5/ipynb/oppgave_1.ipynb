{
 "cells": [
  {
   "cell_type": "markdown",
   "metadata": {},
   "source": [
    "**Oppgave 1 a)**\n",
    "\n",
    "$$\n",
    "u_{h} = F_{1} + F_{2} - M g \\\\\n",
    "u_{v} = F_{1} + F_{2}\n",
    "$$"
   ]
  },
  {
   "cell_type": "code",
   "execution_count": 1,
   "metadata": {},
   "outputs": [
    {
     "data": {
      "text/latex": [
       "$\\displaystyle F_{1} = \\frac{M g + u_{h} + u_{v}}{2}$"
      ],
      "text/plain": [
       "Eq(F_{1}, (M*g + u_{h} + u_{v})/2)"
      ]
     },
     "metadata": {},
     "output_type": "display_data"
    },
    {
     "data": {
      "text/latex": [
       "$\\displaystyle F_{2} = \\frac{M g + u_{h} - u_{v}}{2}$"
      ],
      "text/plain": [
       "Eq(F_{2}, (M*g + u_{h} - u_{v})/2)"
      ]
     },
     "metadata": {},
     "output_type": "display_data"
    }
   ],
   "source": [
    "import sympy as sp\n",
    "\n",
    "u_h, F_1, F_2, M, g, u_v = sp.symbols(R'u_{h} F_{1} F_{2} M g u_{v}')\n",
    "\n",
    "eq3a = sp.Eq(u_h, F_1 + F_2 - M * g)\n",
    "eq3b = sp.Eq(u_v, F_1 - F_2)\n",
    "\n",
    "F_1_expr = eq3a.subs(F_2, sp.solve(eq3b, F_2)[0])\n",
    "F_1_expr = sp.solve(F_1_expr, F_1)[0].factor()\n",
    "display(sp.Eq(F_1, F_1_expr))\n",
    "\n",
    "F_2_expr = eq3a.subs(F_1, sp.solve(eq3b, F_1)[0])\n",
    "F_2_expr = sp.solve(F_2_expr, F_2)[0].factor()\n",
    "display(sp.Eq(F_2, F_2_expr))"
   ]
  },
  {
   "cell_type": "markdown",
   "metadata": {},
   "source": [
    "**Oppgave 1b)**\n",
    "\n",
    "<div style=\"text-align: center; background-color: white;\">\n",
    "    <img src=\"images/oppgave_1b.svg\" alt=\"Oppgave 1b SVG\">\n",
    "</div>"
   ]
  },
  {
   "cell_type": "markdown",
   "metadata": {},
   "source": [
    "**Oppgave 1 c)**\n",
    "\n",
    "$$\n",
    "s^{2} \\hat{p} = g \\vartheta \\\\ \n",
    "s^{2} \\hat{h} = \\frac{1}{M} u_{h} \\\\ \n",
    "s^{2} \\vartheta = \\frac{1}{J} l u_{\\vartheta}\n",
    "$$\n"
   ]
  },
  {
   "cell_type": "code",
   "execution_count": 2,
   "metadata": {},
   "outputs": [
    {
     "data": {
      "text/latex": [
       "$\\displaystyle G_{p} = \\frac{\\ell g}{J s^{4}}$"
      ],
      "text/plain": [
       "Eq(G_p, \\ell*g/(J*s**4))"
      ]
     },
     "metadata": {},
     "output_type": "display_data"
    },
    {
     "data": {
      "text/latex": [
       "$\\displaystyle G_{h} = \\frac{1}{M s^{2}}$"
      ],
      "text/plain": [
       "Eq(G_h, 1/(M*s**2))"
      ]
     },
     "metadata": {},
     "output_type": "display_data"
    }
   ],
   "source": [
    "import sympy as sp\n",
    "\n",
    "# Define the symbols\n",
    "s, hat_p, g, vartheta, hat_h, M, u_h, J, ell, u_vartheta = sp.symbols(\n",
    "    R's \\hat{p} g \\vartheta \\hat{h} M u_{h} J \\ell u_{\\vartheta}')\n",
    "\n",
    "# Define the equations using sympy\n",
    "eq4a = sp.Eq(s**2 * hat_p, g * vartheta)\n",
    "eq4b = sp.Eq(s**2 * hat_h, (1 / M) * u_h)\n",
    "eq4c = sp.Eq(s**2 * vartheta, (1 / J) * ell * u_vartheta)\n",
    "\n",
    "G_p, G_h = sp.symbols('G_p G_h')\n",
    "\n",
    "hat_p_expr = sp.solve(eq4a, hat_p)[0]\n",
    "hat_p_expr = hat_p_expr.subs(vartheta, sp.solve(eq4c, vartheta)[0])\n",
    "\n",
    "G_p_expr = hat_p_expr/u_vartheta\n",
    "display(sp.Eq(G_p, G_p_expr))\n",
    "\n",
    "hat_h_expr = sp.solve(eq4b, hat_h)[0]\n",
    "G_h_expr = hat_h_expr/u_h\n",
    "display(sp.Eq(G_h, G_h_expr))"
   ]
  },
  {
   "cell_type": "markdown",
   "metadata": {},
   "source": [
    "- $G_p$ og $G_h$ har poler når $ s = 0 $ som indikerer marginal stabilitet.\n",
    "- Impulsresponsen $g_p(t) = t^3$, $p$ vil øke eksponensielt.\n",
    "- Impulsresponsen $g_h(t) = t$, $h$ vil øke lineaært."
   ]
  },
  {
   "cell_type": "markdown",
   "metadata": {},
   "source": [
    "**oppgave 2 b)**"
   ]
  },
  {
   "cell_type": "code",
   "execution_count": 131,
   "metadata": {},
   "outputs": [
    {
     "data": {
      "text/latex": [
       "$\\displaystyle \\vartheta = \\frac{\\ell \\mathrm{F}(s) \\vartheta_{ref}}{J s^{2} + \\ell \\mathrm{K}(s)}$"
      ],
      "text/plain": [
       "Eq(\\vartheta, \\ell*\\mathrm{F}(s)*\\vartheta_{ref}/(J*s**2 + \\ell*\\mathrm{K}(s)))"
      ]
     },
     "metadata": {},
     "output_type": "display_data"
    },
    {
     "data": {
      "text/latex": [
       "$\\displaystyle \\mathrm{F}(s) = \\frac{\\omega_{0}^{2}}{\\ell}$"
      ],
      "text/plain": [
       "Eq(\\mathrm{F}(s), \\omega_{0}**2/\\ell)"
      ]
     },
     "metadata": {},
     "output_type": "display_data"
    },
    {
     "data": {
      "text/latex": [
       "$\\displaystyle \\mathrm{K}(s) = - \\frac{J s^{2}}{\\ell} + \\frac{\\omega_{0}^{2}}{\\ell} + \\frac{2 \\omega_{0} s}{\\ell} + \\frac{s^{2}}{\\ell}$"
      ],
      "text/plain": [
       "Eq(\\mathrm{K}(s), -J*s**2/\\ell + \\omega_{0}**2/\\ell + 2*\\omega_{0}*s/\\ell + s**2/\\ell)"
      ]
     },
     "metadata": {},
     "output_type": "display_data"
    }
   ],
   "source": [
    "import sympy as sp\n",
    "\n",
    "# Define the symbols with LaTeX-style annotations\n",
    "vartheta_ref, vartheta, omega_0, s, u_vartheta, F_s, K_s = sp.symbols(\n",
    "    R'\\vartheta_{ref} \\vartheta \\omega_{0} s u_{\\vartheta} \\mathrm{F}(s) \\mathrm{K}(s)'\n",
    ")\n",
    "\n",
    "# Numeric values can be defined as needed\n",
    "omega_0_val = 10\n",
    "\n",
    "# Define the equations using sympy\n",
    "eq6 = sp.Eq(vartheta, (omega_0**2) / ((s + omega_0)**2) * vartheta_ref)\n",
    "eq7 = sp.Eq(u_vartheta, F_s * vartheta_ref - K_s * vartheta)\n",
    "\n",
    "# You can manipulate or solve the equations using sympy functions if needed\n",
    "\n",
    "eq4c_expr = eq4c.subs(u_vartheta, sp.solve(eq7, u_vartheta)[0])\n",
    "eq4c_expr = sp.solve(eq4c_expr, vartheta)[0]\n",
    "display(sp.Eq(vartheta, eq4c_expr))\n",
    "\n",
    "F_s_expr = sp.solve(sp.Eq(sp.numer(eq4c_expr), sp.numer(eq6.rhs)), F_s)[0]\n",
    "display(sp.Eq(F_s, F_s_expr))\n",
    "\n",
    "K_s_expr = sp.solve(sp.Eq(sp.denom(eq4c_expr), sp.denom(eq6.rhs)), K_s)[0].expand()\n",
    "display(sp.Eq(K_s, K_s_expr))\n",
    "print()"
   ]
  },
  {
   "cell_type": "markdown",
   "metadata": {},
   "source": [
    "**oppgave 3 a)**\n",
    "\n",
    "$ \\left(p_{ref}-p\\right) K_{p}(s) \\cdot \\frac{g}{s^{2}}=p $"
   ]
  },
  {
   "cell_type": "code",
   "execution_count": 110,
   "metadata": {},
   "outputs": [
    {
     "data": {
      "text/latex": [
       "$\\displaystyle K_{p} = \\frac{1}{160}$"
      ],
      "text/plain": [
       "Eq(K_p, 1/160)"
      ]
     },
     "metadata": {},
     "output_type": "display_data"
    },
    {
     "data": {
      "text/latex": [
       "$\\displaystyle K_{d} = \\frac{1}{20}$"
      ],
      "text/plain": [
       "Eq(K_d, 1/20)"
      ]
     },
     "metadata": {},
     "output_type": "display_data"
    }
   ],
   "source": [
    "# Import sympy\n",
    "import sympy as sp\n",
    "\n",
    "# Define the symbols using raw strings for LaTeX-style formatting\n",
    "p_ref, p, Ks_p, g, s = sp.symbols(R'p_{ref} p K_{p}(s) g s')\n",
    "\n",
    "# Define the equation using sympy\n",
    "eq3a_1 = sp.Eq((p_ref - p) * Ks_p * (g / s**2), p)\n",
    "\n",
    "# You can further manipulate or solve the equation using sympy functions if needed\n",
    "\n",
    "eq3a_1_expr = sp.solve(eq3a_1,p)[0]/p_ref\n",
    "\n",
    "K_p, K_d = sp.symbols(R'K_p K_d')\n",
    "eq3a_1_expr = eq3a_1_expr.subs(Ks_p, K_p + s*K_d)\n",
    "\n",
    "eq3a_char = sp.denom(eq3a_1_expr)\n",
    "eq3a_diff = sp.expand(eq3a_char).subs(g, 10) - sp.expand((s + sp.Rational(1,4))**2)\n",
    "coeff_3a = [\n",
    "    eq3a_diff.coeff(s, 2),\n",
    "    eq3a_diff.coeff(s, 1),\n",
    "    eq3a_diff.coeff(s, 0)\n",
    "]\n",
    "\n",
    "gain_3a = sp.solve(coeff_3a, (K_p, K_d))\n",
    "display(sp.Eq(K_p, gain_3a[K_p]), sp.Eq(K_d, gain_3a[K_d]))"
   ]
  },
  {
   "cell_type": "markdown",
   "metadata": {},
   "source": [
    "**oppgave 3 b)**\n",
    "\n",
    "$ \\left(\\left(h_{\\text {ref }}-h\\right) K_{h}(s)+\\frac{\\omega_{0}}{s}\\right) \\frac{1}{M s^{2}}=h $"
   ]
  },
  {
   "cell_type": "code",
   "execution_count": 93,
   "metadata": {},
   "outputs": [
    {
     "data": {
      "text/latex": [
       "$\\displaystyle \\frac{K(s)_{h} \\left(- h + h_{ref}\\right) + \\frac{\\omega_{0}}{s}}{M s^{2}} = h$"
      ],
      "text/plain": [
       "Eq((K(s)_{h}*(-h + h_{ref}) + \\omega_{0}/s)/(M*s**2), h)"
      ]
     },
     "metadata": {},
     "output_type": "display_data"
    },
    {
     "data": {
      "text/latex": [
       "$\\displaystyle \\frac{K(s)_{h} h_{ref} s}{K(s)_{h} s + M s^{3}} + \\frac{\\omega_{0}}{K(s)_{h} s + M s^{3}}$"
      ],
      "text/plain": [
       "K(s)_{h}*h_{ref}*s/(K(s)_{h}*s + M*s**3) + \\omega_{0}/(K(s)_{h}*s + M*s**3)"
      ]
     },
     "metadata": {},
     "output_type": "display_data"
    },
    {
     "data": {
      "text/latex": [
       "$\\displaystyle \\frac{\\omega_{0}}{M s^{3} + s \\left(K_{d} s + \\frac{K_{i}}{s} + K_{p}\\right)} + \\frac{h_{ref} s \\left(K_{d} s + \\frac{K_{i}}{s} + K_{p}\\right)}{M s^{3} + s \\left(K_{d} s + \\frac{K_{i}}{s} + K_{p}\\right)}$"
      ],
      "text/plain": [
       "\\omega_{0}/(M*s**3 + s*(K_d*s + K_i/s + K_p)) + h_{ref}*s*(K_d*s + K_i/s + K_p)/(M*s**3 + s*(K_d*s + K_i/s + K_p))"
      ]
     },
     "metadata": {},
     "output_type": "display_data"
    }
   ],
   "source": [
    "import sympy as sp\n",
    "\n",
    "# Define the symbols\n",
    "h_ref, h, Ks_h, omega_0, s, M = sp.symbols(R'h_{ref} h K(s)_{h} \\omega_{0} s M')\n",
    "\n",
    "# Define the equation using sympy\n",
    "eq3b_1 = sp.Eq(((h_ref - h) * Ks_h + omega_0 / s) / (M * s**2), h)\n",
    "\n",
    "display(eq3b_1)\n",
    "\n",
    "# You can manipulate or solve the equation using sympy functions if needed\n",
    "K_p, K_i, K_d = sp.symbols(R'K_p K_i K_d')\n",
    "\n",
    "eq3b_1_expr = (sp.solve(eq3b_1, h)[0]).expand()\n",
    "display(eq3b_1_expr)\n",
    "\n",
    "eq3b_1_expr = eq3b_1_expr.subs(Ks_h, K_p + K_i/s + s*K_d)\n",
    "display(eq3b_1_expr)"
   ]
  },
  {
   "cell_type": "code",
   "execution_count": 2,
   "metadata": {},
   "outputs": [
    {
     "data": {
      "text/plain": [
       "'Calculated gains (K_p, K_d, K_i):'"
      ]
     },
     "metadata": {},
     "output_type": "display_data"
    },
    {
     "data": {
      "text/plain": [
       "array([[7.16, 5.76, 1.42]])"
      ]
     },
     "metadata": {},
     "output_type": "display_data"
    }
   ],
   "source": [
    "import numpy as np\n",
    "from scipy.signal import place_poles\n",
    "\n",
    "# Define constants\n",
    "M = 2  # Given mass of the drone\n",
    "\n",
    "# Define the gains\n",
    "K_p = 1.0  # Proportional gain\n",
    "K_d = 1.0  # Derivative gain\n",
    "K_i = 1.0  # Integral gain\n",
    "\n",
    "# Define A and B matrices based on the derived equations\n",
    "A = np.array([\n",
    "    [0, 1, 0],\n",
    "    [-K_p / M, -K_d / M, K_i / M],\n",
    "    [-1, 0, 0]\n",
    "])\n",
    "\n",
    "B = np.array([[0], [K_p / M], [1]])\n",
    "\n",
    "\n",
    "des_pol = -1.5\n",
    "\n",
    "desired_poles = np.array([des_pol, des_pol-0.1, des_pol-0.2])\n",
    "\n",
    "# Calculate the gain matrix using place_poles\n",
    "controller = place_poles(A, B, desired_poles)\n",
    "K = controller.gain_matrix\n",
    "\n",
    "display(\"Calculated gains (K_p, K_d, K_i):\", K)\n"
   ]
  },
  {
   "cell_type": "markdown",
   "metadata": {},
   "source": [
    "**Oppgave 5: En perfekt sirkel (ش):**\n",
    "\n",
    "<div style=\"text-align: center;\">\n",
    "    <img src=\"images/oppgave_5.gif\" alt=\"Oppgave 5 gif\">\n",
    "</div>"
   ]
  }
 ],
 "metadata": {
  "kernelspec": {
   "display_name": ".venv",
   "language": "python",
   "name": "python3"
  },
  "language_info": {
   "codemirror_mode": {
    "name": "ipython",
    "version": 3
   },
   "file_extension": ".py",
   "mimetype": "text/x-python",
   "name": "python",
   "nbconvert_exporter": "python",
   "pygments_lexer": "ipython3",
   "version": "3.12.7"
  }
 },
 "nbformat": 4,
 "nbformat_minor": 2
}
