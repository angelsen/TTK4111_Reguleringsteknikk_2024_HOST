{
 "cells": [
  {
   "cell_type": "markdown",
   "metadata": {},
   "source": [
    "**Oppgave 1 a)**\n",
    "\n",
    "$$\n",
    "u_{h} = F_{1} + F_{2} - M g \\\\\n",
    "u_{v} = F_{1} + F_{2}\n",
    "$$"
   ]
  },
  {
   "cell_type": "code",
   "execution_count": 1,
   "metadata": {},
   "outputs": [
    {
     "data": {
      "text/latex": [
       "$\\displaystyle F_{1} = \\frac{M g + u_{h} + u_{v}}{2}$"
      ],
      "text/plain": [
       "Eq(F_{1}, (M*g + u_{h} + u_{v})/2)"
      ]
     },
     "metadata": {},
     "output_type": "display_data"
    },
    {
     "data": {
      "text/latex": [
       "$\\displaystyle F_{2} = \\frac{M g + u_{h} - u_{v}}{2}$"
      ],
      "text/plain": [
       "Eq(F_{2}, (M*g + u_{h} - u_{v})/2)"
      ]
     },
     "metadata": {},
     "output_type": "display_data"
    }
   ],
   "source": [
    "import sympy as sp\n",
    "\n",
    "u_h, F_1, F_2, M, g, u_v = sp.symbols(R'u_{h} F_{1} F_{2} M g u_{v}')\n",
    "\n",
    "eq3a = sp.Eq(u_h, F_1 + F_2 - M * g)\n",
    "eq3b = sp.Eq(u_v, F_1 - F_2)\n",
    "\n",
    "F_1_expr = eq3a.subs(F_2, sp.solve(eq3b, F_2)[0])\n",
    "F_1_expr = sp.solve(F_1_expr, F_1)[0].factor()\n",
    "display(sp.Eq(F_1, F_1_expr))\n",
    "\n",
    "F_2_expr = eq3a.subs(F_1, sp.solve(eq3b, F_1)[0])\n",
    "F_2_expr = sp.solve(F_2_expr, F_2)[0].factor()\n",
    "display(sp.Eq(F_2, F_2_expr))"
   ]
  },
  {
   "cell_type": "markdown",
   "metadata": {},
   "source": [
    "**Oppgave 1b)**\n",
    "\n",
    "```\n",
    "write\n",
    "```"
   ]
  },
  {
   "cell_type": "markdown",
   "metadata": {},
   "source": [
    "**Oppgave 1 c)**\n",
    "\n",
    "$$\n",
    "s^{2} \\hat{p} = g \\vartheta \\\\ \n",
    "s^{2} \\hat{h} = \\frac{1}{M} u_{h} \\\\ \n",
    "s^{2} \\vartheta = \\frac{1}{J} l u_{\\vartheta}\n",
    "$$\n"
   ]
  },
  {
   "cell_type": "code",
   "execution_count": 2,
   "metadata": {},
   "outputs": [
    {
     "data": {
      "text/latex": [
       "$\\displaystyle G_{p} = \\frac{\\ell g}{J s^{4}}$"
      ],
      "text/plain": [
       "Eq(G_p, \\ell*g/(J*s**4))"
      ]
     },
     "metadata": {},
     "output_type": "display_data"
    },
    {
     "data": {
      "text/latex": [
       "$\\displaystyle G_{h} = \\frac{1}{M s^{2}}$"
      ],
      "text/plain": [
       "Eq(G_h, 1/(M*s**2))"
      ]
     },
     "metadata": {},
     "output_type": "display_data"
    }
   ],
   "source": [
    "import sympy as sp\n",
    "\n",
    "# Define the symbols\n",
    "s, hat_p, g, vartheta, hat_h, M, u_h, J, ell, u_vartheta = sp.symbols(\n",
    "    R's \\hat{p} g \\vartheta \\hat{h} M u_{h} J \\ell u_{\\vartheta}')\n",
    "\n",
    "# Define the equations using sympy\n",
    "eq4a = sp.Eq(s**2 * hat_p, g * vartheta)\n",
    "eq4b = sp.Eq(s**2 * hat_h, (1 / M) * u_h)\n",
    "eq4c = sp.Eq(s**2 * vartheta, (1 / J) * ell * u_vartheta)\n",
    "\n",
    "G_p, G_h = sp.symbols('G_p G_h')\n",
    "\n",
    "hat_p_expr = sp.solve(eq4a, hat_p)[0]\n",
    "hat_p_expr = hat_p_expr.subs(vartheta, sp.solve(eq4c, vartheta)[0])\n",
    "\n",
    "G_p_expr = hat_p_expr/u_vartheta\n",
    "display(sp.Eq(G_p, G_p_expr))\n",
    "\n",
    "hat_h_expr = sp.solve(eq4b, hat_h)[0]\n",
    "G_h_expr = hat_h_expr/u_h\n",
    "display(sp.Eq(G_h, G_h_expr))"
   ]
  },
  {
   "cell_type": "markdown",
   "metadata": {},
   "source": [
    "- $G_p$ og $G_h$ har poler når $ s = 0 $ som indikerer marginal stabilitet.\n",
    "- Impulsresponsen $g_p(t) = t^3$, $p$ vil øke eksponensielt.\n",
    "- Impulsresponsen $g_h(t) = t$, $h$ vil øke lineaært."
   ]
  },
  {
   "cell_type": "markdown",
   "metadata": {},
   "source": [
    "**oppgave 2 b)**"
   ]
  },
  {
   "cell_type": "code",
   "execution_count": 27,
   "metadata": {},
   "outputs": [
    {
     "data": {
      "text/latex": [
       "$\\displaystyle \\vartheta = \\frac{\\ell \\mathrm{F}(s) \\vartheta_{ref}}{J s^{2} + \\ell \\mathrm{K}(s)}$"
      ],
      "text/plain": [
       "Eq(\\vartheta, \\ell*\\mathrm{F}(s)*\\vartheta_{ref}/(J*s**2 + \\ell*\\mathrm{K}(s)))"
      ]
     },
     "metadata": {},
     "output_type": "display_data"
    },
    {
     "data": {
      "text/latex": [
       "$\\displaystyle \\mathrm{F}(s) = \\frac{\\omega_{0}^{2}}{\\ell}$"
      ],
      "text/plain": [
       "Eq(\\mathrm{F}(s), \\omega_{0}**2/\\ell)"
      ]
     },
     "metadata": {},
     "output_type": "display_data"
    },
    {
     "data": {
      "text/latex": [
       "$\\displaystyle \\mathrm{K}(s) = \\frac{- J s^{2} + \\left(\\omega_{0} + s\\right)^{2}}{\\ell}$"
      ],
      "text/plain": [
       "Eq(\\mathrm{K}(s), (-J*s**2 + (\\omega_{0} + s)**2)/\\ell)"
      ]
     },
     "metadata": {},
     "output_type": "display_data"
    }
   ],
   "source": [
    "import sympy as sp\n",
    "\n",
    "# Define the symbols with LaTeX-style annotations\n",
    "vartheta_ref, vartheta, omega_0, s, u_vartheta, F_s, K_s = sp.symbols(\n",
    "    R'\\vartheta_{ref} \\vartheta \\omega_{0} s u_{\\vartheta} \\mathrm{F}(s) \\mathrm{K}(s)'\n",
    ")\n",
    "\n",
    "# Numeric values can be defined as needed\n",
    "omega_0_val = 10\n",
    "\n",
    "# Define the equations using sympy\n",
    "eq6 = sp.Eq(vartheta, (omega_0**2) / ((s + omega_0)**2) * vartheta_ref)\n",
    "eq7 = sp.Eq(u_vartheta, F_s * vartheta_ref - K_s * vartheta)\n",
    "\n",
    "# You can manipulate or solve the equations using sympy functions if needed\n",
    "\n",
    "eq4c_expr = eq4c.subs(u_vartheta, sp.solve(eq7, u_vartheta)[0])\n",
    "eq4c_expr = sp.solve(eq4c_expr, vartheta)[0]\n",
    "display(sp.Eq(vartheta, eq4c_expr))\n",
    "\n",
    "F_s_expr = sp.solve(sp.Eq(sp.numer(eq4c_expr), sp.numer(eq6.rhs)), F_s)[0]\n",
    "display(sp.Eq(F_s, F_s_expr))\n",
    "\n",
    "K_s_expr = sp.solve(sp.Eq(sp.denom(eq4c_expr), sp.denom(eq6.rhs)), K_s)[0]\n",
    "display(sp.Eq(K_s, K_s_expr))"
   ]
  }
 ],
 "metadata": {
  "kernelspec": {
   "display_name": ".venv",
   "language": "python",
   "name": "python3"
  },
  "language_info": {
   "codemirror_mode": {
    "name": "ipython",
    "version": 3
   },
   "file_extension": ".py",
   "mimetype": "text/x-python",
   "name": "python",
   "nbconvert_exporter": "python",
   "pygments_lexer": "ipython3",
   "version": "3.12.7"
  }
 },
 "nbformat": 4,
 "nbformat_minor": 2
}
